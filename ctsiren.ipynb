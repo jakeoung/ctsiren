{
  "nbformat": 4,
  "nbformat_minor": 0,
  "metadata": {
    "colab": {
      "name": "ctsiren.ipynb",
      "provenance": [],
      "collapsed_sections": [],
      "include_colab_link": true
    },
    "kernelspec": {
      "name": "python3",
      "display_name": "Python 3"
    },
    "accelerator": "GPU"
  },
  "cells": [
    {
      "cell_type": "markdown",
      "metadata": {
        "id": "view-in-github",
        "colab_type": "text"
      },
      "source": [
        "<a href=\"https://colab.research.google.com/github/jakeoung/ctsiren/blob/main/ctsiren.ipynb\" target=\"_parent\"><img src=\"https://colab.research.google.com/assets/colab-badge.svg\" alt=\"Open In Colab\"/></a>"
      ]
    },
    {
      "cell_type": "code",
      "metadata": {
        "id": "YtaGEOAyvoxe",
        "colab": {
          "base_uri": "https://localhost:8080/"
        },
        "outputId": "d196e0b3-475f-4cf5-b3a2-5fdcdc870ba0"
      },
      "source": [
        "import numpy as np\n",
        "import torch\n",
        "from torch import nn\n",
        "import torch.nn.functional as F\n",
        "from torch.utils.data import DataLoader, Dataset\n",
        "import matplotlib.pyplot as plt\n",
        "\n",
        "# from projection geometry to vectors representing a more specific geometry for each angle\n",
        "# https://github.com/astra-toolbox/astra-toolbox/blob/10d87f45bc9311c0408e4cacdec587eff8bc37f8/python/astra/functions.py\n",
        "def geom_2vec(proj_geom):\n",
        "    # PARALLEL\n",
        "    if proj_geom['Type'] == 'parallel2d':\n",
        "        angles = proj_geom['ProjectionAngles']\n",
        "        vectors = np.zeros([len(angles), 6])\n",
        "        for i in range(len(angles)):\n",
        "            # ray direction\n",
        "            vectors[i, 0] = np.sin(angles[i])\n",
        "            vectors[i, 1] = -np.cos(angles[i])\n",
        "            \n",
        "            # center of detector\n",
        "            vectors[i, 2] = 0\n",
        "            vectors[i, 3] = 0\n",
        "            \n",
        "            # vector from detector pixel (0,0) to (0,1)\n",
        "            vectors[i, 4] = np.cos(angles[i]) * proj_geom['DetectorSpacingX']\n",
        "            vectors[i, 5] = np.sin(angles[i]) * proj_geom['DetectorSpacingX']\n",
        "\n",
        "    proj_geom['Vectors'] = vectors.astype(np.float32)\n",
        "\n",
        "# generate rays for each angle, for each detector pixel\n",
        "def gen_rays2d(proj_geom, vol_geom, roifactor = 1.4):\n",
        "    W = proj_geom[\"DetectorColCount\"]\n",
        "    vecs = proj_geom[\"Vectors\"]\n",
        "    nangle = vecs.shape[0]\n",
        "    ny, nx = vol_geom[\"ny\"], vol_geom[\"nx\"]\n",
        "    x_dim = 2\n",
        "    \n",
        "    orig = np.zeros([x_dim, W, nangle], dtype=np.float32)\n",
        "    dir = np.zeros([x_dim, W, nangle], dtype=np.float32)\n",
        "    far = np.zeros([W, nangle], dtype=np.float32)\n",
        "\n",
        "    # tighten_bb = false\n",
        "    dist_origin = (vol_geom[\"maxX\"] - vol_geom[\"minX\"]) * 0.5 * roifactor\n",
        "\n",
        "    bb_min = roifactor * np.array([vol_geom[\"minX\"], vol_geom[\"minY\"]])\n",
        "    bb_max = roifactor * np.array([vol_geom[\"maxX\"], vol_geom[\"maxY\"]])\n",
        "\n",
        "    for i in range(nangle):\n",
        "        if proj_geom[\"Type\"] == \"parallel2d\":\n",
        "            det_center = vecs[i, 2:4]\n",
        "            detU = vecs[i, 4:]\n",
        "            \n",
        "            detS = det_center - 0.5 * W * detU\n",
        "            srcS_origin = -vecs[i,:x_dim] * dist_origin - 0.5 * W * detU + 0.5 * detU\n",
        "\n",
        "            # ray for parallel\n",
        "            ray_dir = vecs[i,:x_dim]\n",
        "    \n",
        "            for u in range(W):\n",
        "                dir[:, u, i] = ray_dir\n",
        "                orig[:, u, i] = srcS_origin + u * detU\n",
        "                far[u, i] = dist_origin*2\n",
        "\n",
        "    # Julia to Python convention\n",
        "    orig = orig.transpose([2,1,0])\n",
        "    dir = dir.transpose([2,1,0])\n",
        "    far = far.transpose()\n",
        "    print(orig.shape) # A x W x 2\n",
        "\n",
        "    # vectorize \n",
        "    orig = orig.reshape(-1, 2)\n",
        "    dir = dir.reshape(-1, 2)\n",
        "    far = far.reshape(-1)\n",
        "\n",
        "    return orig, dir, far\n",
        "\n",
        "# generate rays\n",
        "W = 256\n",
        "nangle = 30\n",
        "proj_geom = {}\n",
        "proj_geom['Type'] = 'parallel2d'\n",
        "proj_geom['DetectorColCount'] = W\n",
        "proj_geom['DetectorSpacingX'] = 2.0 / W\n",
        "proj_geom['ProjectionAngles'] = np.linspace(0, np.pi, nangle, endpoint=False)\n",
        "geom_2vec(proj_geom)\n",
        "vol_geom = {\"nx\":W, \"ny\":W, \"nz\":0, \"minX\":-1, \"maxX\":1,\n",
        "            \"minY\":-1, \"maxY\":1, \"spacingX\":2/W, \"spacingY\":2/W}\n",
        "orig, dir, far = gen_rays2d(proj_geom, vol_geom)\n",
        "\n",
        "\n",
        "def sample_grid(vol_geom):\n",
        "    v = vol_geom\n",
        "    x = np.linspace(v[\"minX\"]+0.5*v[\"spacingX\"], v[\"maxX\"]-0.5*v[\"spacingX\"], v[\"nx\"])\n",
        "    y = np.linspace(v[\"maxY\"]-0.5*v[\"spacingY\"], v[\"minY\"]+0.5*v[\"spacingY\"], v[\"ny\"])\n",
        "\n",
        "    # 2D\n",
        "    x = x.reshape(1, len(x))\n",
        "    y = y.reshape(len(y), 1)\n",
        "\n",
        "    xx = x.repeat(len(y), 0)\n",
        "    yy = y.repeat(x.shape[1], 1)\n",
        "\n",
        "    pts = np.vstack([xx.reshape(-1), yy.reshape(-1)])\n",
        "    return pts.transpose().astype(np.float32)\n",
        "\n",
        "pts_img = torch.tensor(sample_grid(vol_geom))\n",
        "print(pts_img.shape)"
      ],
      "execution_count": 19,
      "outputs": [
        {
          "output_type": "stream",
          "text": [
            "(30, 256, 2)\n",
            "torch.Size([65536, 2])\n"
          ],
          "name": "stdout"
        }
      ]
    },
    {
      "cell_type": "code",
      "metadata": {
        "id": "hRfmgYCsxMuX",
        "colab": {
          "base_uri": "https://localhost:8080/"
        },
        "outputId": "47a027e2-51d4-4e8f-8b06-3b22966e72e0"
      },
      "source": [
        "class SineLayer(nn.Module):\n",
        "    # See paper sec. 3.2, final paragraph, and supplement Sec. 1.5 for discussion of omega_0.\n",
        "    \n",
        "    # If is_first=True, omega_0 is a frequency factor which simply multiplies the activations before the \n",
        "    # nonlinearity. Different signals may require different omega_0 in the first layer - this is a \n",
        "    # hyperparameter.\n",
        "    \n",
        "    # If is_first=False, then the weights will be divided by omega_0 so as to keep the magnitude of \n",
        "    # activations constant, but boost gradients to the weight matrix (see supplement Sec. 1.5)\n",
        "    \n",
        "    def __init__(self, in_features, out_features, bias=True,\n",
        "                 is_first=False, omega_0=30):\n",
        "        super().__init__()\n",
        "        self.omega_0 = omega_0\n",
        "        self.is_first = is_first\n",
        "        \n",
        "        self.in_features = in_features\n",
        "        self.linear = nn.Linear(in_features, out_features, bias=bias)\n",
        "        \n",
        "        self.init_weights()\n",
        "    \n",
        "    def init_weights(self):\n",
        "        with torch.no_grad():\n",
        "            if self.is_first:\n",
        "                self.linear.weight.uniform_(-1 / self.in_features, \n",
        "                                             1 / self.in_features)      \n",
        "            else:\n",
        "                self.linear.weight.uniform_(-np.sqrt(6 / self.in_features) / self.omega_0, \n",
        "                                             np.sqrt(6 / self.in_features) / self.omega_0)\n",
        "        \n",
        "    def forward(self, input):\n",
        "        return torch.sin(self.omega_0 * self.linear(input))\n",
        "    \n",
        "    def forward_with_intermediate(self, input): \n",
        "        # For visualization of activation distributions\n",
        "        intermediate = self.omega_0 * self.linear(input)\n",
        "        return torch.sin(intermediate), intermediate\n",
        "\n",
        "\n",
        "class Siren(nn.Module):\n",
        "    def __init__(self, in_features, hidden_features, hidden_layers, out_features, outermost_linear=False, \n",
        "                 first_omega_0=30, hidden_omega_0=30.):\n",
        "        super().__init__()\n",
        "        \n",
        "        self.net = []\n",
        "        self.net.append(SineLayer(in_features, hidden_features, \n",
        "                                  is_first=True, omega_0=first_omega_0))\n",
        "\n",
        "        for i in range(hidden_layers):\n",
        "            self.net.append(SineLayer(hidden_features, hidden_features, \n",
        "                                      is_first=False, omega_0=hidden_omega_0))\n",
        "\n",
        "        # if outermost_linear:\n",
        "        final_linear = nn.Linear(hidden_features, out_features)\n",
        "        \n",
        "        with torch.no_grad():\n",
        "            final_linear.weight.uniform_(-np.sqrt(6 / hidden_features) / hidden_omega_0, \n",
        "                                            np.sqrt(6 / hidden_features) / hidden_omega_0)\n",
        "            \n",
        "        self.net.append(final_linear)\n",
        "        \n",
        "        # else:\n",
        "        #     self.net.append(SineLayer(hidden_features, out_features, \n",
        "        #                               is_first=False, omega_0=hidden_omega_0))\n",
        "        self.net = nn.Sequential(*self.net)\n",
        "    \n",
        "    def forward(self, coords):\n",
        "        # coords = coords.clone().detach().requires_grad_(True) # allows to take derivative w.r.t. input\n",
        "        output = self.net(coords)\n",
        "        output[output < 0] = 0.0 # relu\n",
        "        return output \n",
        "\n",
        "# make network\n",
        "net = Siren(2, 256, 3, 1, True)\n",
        "net.cuda()"
      ],
      "execution_count": 20,
      "outputs": [
        {
          "output_type": "execute_result",
          "data": {
            "text/plain": [
              "Siren(\n",
              "  (net): Sequential(\n",
              "    (0): SineLayer(\n",
              "      (linear): Linear(in_features=2, out_features=256, bias=True)\n",
              "    )\n",
              "    (1): SineLayer(\n",
              "      (linear): Linear(in_features=256, out_features=256, bias=True)\n",
              "    )\n",
              "    (2): SineLayer(\n",
              "      (linear): Linear(in_features=256, out_features=256, bias=True)\n",
              "    )\n",
              "    (3): SineLayer(\n",
              "      (linear): Linear(in_features=256, out_features=256, bias=True)\n",
              "    )\n",
              "    (4): Linear(in_features=256, out_features=1, bias=True)\n",
              "  )\n",
              ")"
            ]
          },
          "metadata": {
            "tags": []
          },
          "execution_count": 20
        }
      ]
    },
    {
      "cell_type": "code",
      "metadata": {
        "id": "9rionHFg0-BN",
        "colab": {
          "base_uri": "https://localhost:8080/",
          "height": 124
        },
        "outputId": "95f66474-7f5c-4151-9015-23f92b26522c"
      },
      "source": [
        "class Rays(Dataset):\n",
        "    def __init__(self, p_data, orig, dir, far):\n",
        "        super().__init__()\n",
        "        self.orig = torch.FloatTensor(orig)\n",
        "        self.dir = torch.FloatTensor(dir)\n",
        "        self.far = torch.FloatTensor(far)\n",
        "        self.p_data = torch.FloatTensor(p_data)\n",
        "        \n",
        "        # self.pixels = img.permute(1, 2, 0).view(-1, 1)\n",
        "        # self.coords = get_mgrid(sidelength, 2)\n",
        "\n",
        "    def __len__(self):\n",
        "        return self.orig.shape[0]\n",
        "\n",
        "    def __getitem__(self, idx):  \n",
        "        return self.p_data[idx], self.orig[idx,:], self.dir[idx,:], self.far[idx]\n",
        "\n",
        "def make_synthetic_circle(W, nangle):\n",
        "    p_data_AxW = np.zeros([nangle, W])\n",
        "    det_center = 0\n",
        "    detU = 2.0 / W\n",
        "    detS = det_center - 0.5 * W * detU + 0.5*detU\n",
        "    for i in range(W):\n",
        "        x = detS + i*detU\n",
        "        xx = 0.25 - x**2\n",
        "        if xx > 0.0:\n",
        "            p_data_AxW[:, i] = 2*np.sqrt(xx)\n",
        "\n",
        "    return p_data_AxW\n",
        "\n",
        "print(orig.shape)\n",
        "p_data_AxW = make_synthetic_circle(W, nangle)\n",
        "p_data = p_data_AxW.reshape(-1)\n",
        "\n",
        "ds = Rays(p_data, orig, dir, far)\n",
        "B = 128 # batchsize\n",
        "dataloader = DataLoader(ds, batch_size=B, pin_memory=True, shuffle=True, drop_last=True)\n",
        "\n",
        "optim = torch.optim.Adam(lr=1e-4, params=net.parameters())\n",
        "\n",
        "# visualize projection data (circle)\n",
        "plt.imshow(p_data_AxW)"
      ],
      "execution_count": 21,
      "outputs": [
        {
          "output_type": "stream",
          "text": [
            "(7680, 2)\n"
          ],
          "name": "stdout"
        },
        {
          "output_type": "execute_result",
          "data": {
            "text/plain": [
              "<matplotlib.image.AxesImage at 0x7fd49c4d1b00>"
            ]
          },
          "metadata": {
            "tags": []
          },
          "execution_count": 21
        },
        {
          "output_type": "display_data",
          "data": {
            "image/png": "[encoded data removed]",
            "text/plain": [
              "<Figure size 432x288 with 1 Axes>"
            ]
          },
          "metadata": {
            "tags": [],
            "needs_background": "light"
          }
        }
      ]
    },
    {
      "cell_type": "code",
      "metadata": {
        "id": "OC8X4_D5I8ag",
        "colab": {
          "base_uri": "https://localhost:8080/",
          "height": 286
        },
        "outputId": "f71787ec-0f08-48ac-f48b-fe32eaab9530"
      },
      "source": [
        "# visualize the initialization\n",
        "img_test = net(pts_img.cuda()).detach().reshape([W,W]).cpu()\n",
        "plt.imshow(np.array(img_test), cmap=\"gray\")"
      ],
      "execution_count": 22,
      "outputs": [
        {
          "output_type": "execute_result",
          "data": {
            "text/plain": [
              "<matplotlib.image.AxesImage at 0x7fd49c49a940>"
            ]
          },
          "metadata": {
            "tags": []
          },
          "execution_count": 22
        },
        {
          "output_type": "display_data",
          "data": {
            "image/png": "[encoded data removed]",
            "text/plain": [
              "<Figure size 432x288 with 1 Axes>"
            ]
          },
          "metadata": {
            "tags": [],
            "needs_background": "light"
          }
        }
      ]
    },
    {
      "cell_type": "code",
      "metadata": {
        "id": "04UQtZPY1PkB",
        "colab": {
          "base_uri": "https://localhost:8080/"
        },
        "outputId": "0079da0f-89b3-45cb-b5b2-ffe2f605ac1d"
      },
      "source": [
        "nsamples = 256\n",
        "t_steps = np.linspace(0, 1, nsamples+1, dtype=np.float32).reshape(1, -1)\n",
        "nepoch = 3\n",
        "lambd = 0.000001 # regularization parameter\n",
        "\n",
        "for ep in range(nepoch):\n",
        "    for (p_, orig_, dir_, far) in dataloader:\n",
        "\n",
        "        # midpoint rule (different methods can be used such as Monte-Carlo)\n",
        "        B, x_dim = orig_.shape\n",
        "        t_BxN = far.reshape(-1,1) * t_steps # [(nsamples+1) x B]\n",
        "        dx = (t_BxN[:,1:2] - t_BxN[:,0:1]) # ELISE: Moved this line up one because of error: dx not defined.... Don't know if this makes sense\n",
        "        t_mid = t_BxN[:,:-1] + dx*0.5\n",
        "\n",
        "        # x = o + t * d\n",
        "        x = orig_.reshape(B, 1, x_dim) + dir_.reshape(B, 1, x_dim) * t_mid.reshape(B, nsamples, 1)\n",
        "\n",
        "        # Here comes automatic differentiation\n",
        "        fx_BxN = torch.squeeze(net(x.cuda()))\n",
        "        p_est = torch.sum(fx_BxN * dx.cuda(), 1)\n",
        "        \n",
        "        loss_ = ((p_est - p_.cuda())**2).mean()\n",
        "\n",
        "        # regularization\n",
        "        # loss_ += lambd * torch.sum(torch.sqrt(torch.abs(fx_BxN[:,1:] - fx_BxN[:,0:-1]) + 1e-8)) / B\n",
        "        \n",
        "        optim.zero_grad()\n",
        "        loss_.backward()\n",
        "        optim.step()\n",
        "    \n",
        "    print(ep, loss_)"
      ],
      "execution_count": 23,
      "outputs": [
        {
          "output_type": "stream",
          "text": [
            "0 tensor(0.0002, device='cuda:0', grad_fn=<AddBackward0>)\n",
            "1 tensor(3.9060e-05, device='cuda:0', grad_fn=<AddBackward0>)\n",
            "2 tensor(4.7741e-05, device='cuda:0', grad_fn=<AddBackward0>)\n"
          ],
          "name": "stdout"
        }
      ]
    },
    {
      "cell_type": "code",
      "metadata": {
        "id": "cW0dC9qyI5sx",
        "colab": {
          "base_uri": "https://localhost:8080/",
          "height": 286
        },
        "outputId": "3e41d893-73e3-4398-ef56-7d559518870d"
      },
      "source": [
        "img_test = net(pts_img.cuda()).detach().reshape([W,W]).cpu()\n",
        "plt.imshow(np.array(img_test), cmap=\"gray\")\n",
        "plt.colorbar()"
      ],
      "execution_count": 24,
      "outputs": [
        {
          "output_type": "execute_result",
          "data": {
            "text/plain": [
              "<matplotlib.colorbar.Colorbar at 0x7fd49c431208>"
            ]
          },
          "metadata": {
            "tags": []
          },
          "execution_count": 24
        },
        {
          "output_type": "display_data",
          "data": {
            "image/png": "[encoded data removed]",
            "text/plain": [
              "<Figure size 432x288 with 2 Axes>"
            ]
          },
          "metadata": {
            "tags": [],
            "needs_background": "light"
          }
        }
      ]
    },
    {
      "cell_type": "code",
      "metadata": {
        "id": "7PcB9bQ7LIhw",
        "colab": {
          "base_uri": "https://localhost:8080/"
        },
        "outputId": "58019878-58e2-4ec2-872f-e06b5bd94f4b"
      },
      "source": [
        "torch.squeeze(net(x.cuda())).shape"
      ],
      "execution_count": 18,
      "outputs": [
        {
          "output_type": "execute_result",
          "data": {
            "text/plain": [
              "torch.Size([128, 256])"
            ]
          },
          "metadata": {
            "tags": []
          },
          "execution_count": 18
        }
      ]
    },
    {
      "cell_type": "code",
      "metadata": {
        "id": "7IMuJiSUav8Z"
      },
      "source": [
        ""
      ],
      "execution_count": null,
      "outputs": []
    }
  ]
}